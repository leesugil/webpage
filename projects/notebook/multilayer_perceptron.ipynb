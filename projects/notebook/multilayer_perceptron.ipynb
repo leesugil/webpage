{
 "cells": [
  {
   "cell_type": "markdown",
   "metadata": {},
   "source": [
    "# Multilayer Perceptron\n",
    "\n",
    "- Support Vector Classifier (SVC)\n",
    "- Random Forest Classifier (RFC)\n",
    "- **Multilayer Perceptron (MLP)**\n",
    "\n",
    "A Multilayer Perceptron (MLP) is basically a feedforward artificial neural network (ANN). There's still an ambiguity in the definition of MLP, but, at least, this vanilla NN is what we are going to do here.\n",
    "\n",
    "Everyone learning ANN for the first time starts with this model, so I don't think I really need to describe what it is here again. The constitution of MLP is somewhat inuitive in my opinion compared to other classical methods which require a little bit of mathematics and probability theory.\n",
    "\n",
    "Instead, this page will be a quick reference on training an MLP model using `sklearn`.\n",
    "\n",
    "`sklearn` provides the MLP classifier, but in the future postings on my webpage, I'll probably use `Keras` when it comes to studying neural networks. I need the Tensorflow backend that `Keras` offers for GPU computation.\n",
    "\n",
    "Let's start with the iris data as usual."
   ]
  },
  {
   "cell_type": "code",
   "execution_count": 1,
   "metadata": {
    "scrolled": true
   },
   "outputs": [
    {
     "name": "stdout",
     "output_type": "stream",
     "text": [
      "<class 'sklearn.utils.Bunch'>\n",
      "dict_keys(['data', 'target', 'frame', 'target_names', 'DESCR', 'feature_names', 'filename'])\n"
     ]
    }
   ],
   "source": [
    "import numpy as np\n",
    "import matplotlib.pyplot as plt\n",
    "from sklearn.datasets import load_iris\n",
    "\n",
    "iris = load_iris()\n",
    "print(type(iris))\n",
    "print(iris.keys())"
   ]
  },
  {
   "cell_type": "code",
   "execution_count": 2,
   "metadata": {},
   "outputs": [
    {
     "name": "stdout",
     "output_type": "stream",
     "text": [
      "(75, 4)\n",
      "(74, 4)\n",
      "(150, 4)\n"
     ]
    }
   ],
   "source": [
    "x_train = iris.data[0:-1:2]\n",
    "y_train = iris.target[0:-1:2]\n",
    "x_test = iris.data[1:-1:2]\n",
    "y_test = iris.target[1:-1:2]\n",
    "\n",
    "print(x_train.shape)\n",
    "print(x_test.shape)\n",
    "print(iris.data.shape)"
   ]
  },
  {
   "cell_type": "markdown",
   "metadata": {},
   "source": [
    "To design a (dense) network, we need to specify the number of hidden layers and how many perceptrons will be used in each layer. This is simply declared using a tuple.\n",
    "\n",
    "For example, let's use three hidden layers with\n",
    "- 10 perceptrons in the first layer,\n",
    "- 20 perceptrons in the second layer,\n",
    "- 10 perceptrons in the third layer.\n",
    "\n",
    "This is simply declared as\n",
    "```python\n",
    "hidden_layer_sizes = (10, 20, 10)\n",
    "```\n",
    "in the code below."
   ]
  },
  {
   "cell_type": "code",
   "execution_count": 3,
   "metadata": {},
   "outputs": [
    {
     "name": "stdout",
     "output_type": "stream",
     "text": [
      "Percentage correct accuracy of MLP:  0.972972972972973\n"
     ]
    },
    {
     "name": "stderr",
     "output_type": "stream",
     "text": [
      "D:\\ProgramData\\Miniconda3\\envs\\myenv\\lib\\site-packages\\sklearn\\neural_network\\_multilayer_perceptron.py:585: ConvergenceWarning: Stochastic Optimizer: Maximum iterations (200) reached and the optimization hasn't converged yet.\n",
      "  % self.max_iter, ConvergenceWarning)\n"
     ]
    }
   ],
   "source": [
    "# MLP\n",
    "from sklearn.neural_network import MLPClassifier\n",
    "\n",
    "# model\n",
    "model = MLPClassifier(hidden_layer_sizes = (10, 20, 10))\n",
    "# train\n",
    "model.fit(x_train, y_train)\n",
    "# prediction\n",
    "y_predicted = model.predict(x_test)\n",
    "# evaluation\n",
    "print('Percentage correct accuracy of MLP: ', np.mean(y_test == y_predicted))"
   ]
  },
  {
   "cell_type": "code",
   "execution_count": 4,
   "metadata": {},
   "outputs": [
    {
     "data": {
      "image/png": "[encoded data removed]",
      "text/plain": [
       "<Figure size 288x288 with 2 Axes>"
      ]
     },
     "metadata": {
      "needs_background": "light"
     },
     "output_type": "display_data"
    }
   ],
   "source": [
    "# performance measures and evaluations\n",
    "from sklearn import metrics\n",
    "\n",
    "# confusion matrix\n",
    "matrix = metrics.confusion_matrix(y_test, y_predicted)\n",
    "plt.matshow(matrix)\n",
    "plt.colorbar()\n",
    "plt.ylabel('True label')\n",
    "plt.xlabel('Predicted_label')\n",
    "plt.show()"
   ]
  },
  {
   "cell_type": "code",
   "execution_count": 5,
   "metadata": {},
   "outputs": [
    {
     "name": "stdout",
     "output_type": "stream",
     "text": [
      "              precision    recall  f1-score   support\n",
      "\n",
      "           0       1.00      1.00      1.00        25\n",
      "           1       0.96      0.96      0.96        25\n",
      "           2       0.96      0.96      0.96        24\n",
      "\n",
      "    accuracy                           0.97        74\n",
      "   macro avg       0.97      0.97      0.97        74\n",
      "weighted avg       0.97      0.97      0.97        74\n",
      "\n"
     ]
    }
   ],
   "source": [
    "print(metrics.classification_report(y_test, y_predicted))"
   ]
  }
 ],
 "metadata": {
  "kernelspec": {
   "display_name": "Python 3",
   "language": "python",
   "name": "python3"
  },
  "language_info": {
   "codemirror_mode": {
    "name": "ipython",
    "version": 3
   },
   "file_extension": ".py",
   "mimetype": "text/x-python",
   "name": "python",
   "nbconvert_exporter": "python",
   "pygments_lexer": "ipython3",
   "version": "3.7.7"
  }
 },
 "nbformat": 4,
 "nbformat_minor": 4
}
