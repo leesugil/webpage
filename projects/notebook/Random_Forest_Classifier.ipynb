{
 "cells": [
  {
   "cell_type": "markdown",
   "metadata": {},
   "source": [
    "# Random Forest Classifier\n",
    "\n",
    "This is the second of the series on classic classifiers.\n",
    "\n",
    "- Support Vector Classifier (SVC)\n",
    "- **Random Forest Classifier (RFC)**\n",
    "- Multilayer Perceptron (MLP)\n",
    "\n",
    "The RFC method is a non-parametric machine learning method. This is an ensemble method averaging multiple decision trees, so let me start from there.\n",
    "\n",
    "If you just wish to grab a code for RFC (like my future self), here is a <a href=\"#code\">wormhole</a>.\n",
    "\n",
    "The codes and the example are motivated from *Fundamentals of Machine Learning* by Thomas P. Trappenberg.\n",
    "\n",
    "## Preliminary: Decision Trees\n",
    "\n",
    "What we eventually wish to achieve with a decision tree is intuitively somewhat similiar to SVM. We start with a labeled sample data for training the decision tree classifier, and we still wish to draw lines (or place hyperplanes as we saw from <a href=\"Support-Vector_Machines.html\">SVM</a>) and say \"hey, if the observation is on this side of the line, we predict it to be in class A, otherwise 'not A' for the moment.\" This type of yes/no branches occur each time we set a new classifying hyperplane, and we'll in particular apply theese yes/no gates in a sequential order determined by data so that the whole decision making process can be presented using a tree diagram.\n",
    "\n",
    "So how does the decision tree algorithm places a classifying hyperplane?\n",
    "\n",
    "Unlike SVM where a hyperplane could be placed in any location and direction in the feature space to determine the best split, RFC only places hyperplanes in particular direction: Basically for each attribute axis, we place a hyperplane perpendicular to it (a normal vector to the hyperplane is always pararell to the corresponding axis).\n",
    "\n",
    "For example, if $X_1$ is the first attribute of our data set, the decision tree algorithm would find a constant $c$ such that, if a sample has the first attribute value $X_1 > c$, we predict it to be in class A, otherwise, pass the sample to the next yes/no gate.\n",
    "\n",
    "So the heart of this algorithm is to determine the constant $c$ for each attribute at each yes/no branch in a decision tree.\n",
    "\n",
    "There are multiple ways to determine $c$, and `sklearn` offers two common practices, Gini impurity and entropy (\"information gain\"). By default, `sklearn.tree.DecisionTreeClassifier` uses Gini impurity as a criterion, see <a href=\"https://scikit-learn.org/stable/modules/generated/sklearn.tree.DecisionTreeClassifier.html\">here</a>."
   ]
  },
  {
   "cell_type": "markdown",
   "metadata": {},
   "source": [
    "## Gini impurity\n",
    "\n",
    "`sklearn` uses the Gini impurity $G$ by default as a measure of how diverse the data are,\n",
    "$$G = 1 - \\sum_y p^2(y).$$\n",
    "- High $G$: There are many categories in the data.\n",
    "- Low $G$: Most of the data belong to a single category.\n",
    "\n",
    "Computing $G$ is numerically less demanding then the entropy $H$ which is used in measureing information gain described below.\n",
    "\n",
    "The idea behind the formula of $G$ is as follows:\n",
    "- From the data, we can estimate the probability $p(y)$ of the occurence of a label $y$.\n",
    "- Suppose a sample is picked from the data and we randomly assign a predicted label on it based on the distribution of $p(y)$ for all labels $y$.\n",
    "- If the picked sample has the true label $y = k$ with the probability $p(k)$, the probability that we would mislabel it will be\n",
    "$$\\sum_{i \\not= k} p(i) = 1 - p(k).$$\n",
    "- We have a $p(k)$ chance to pick a sample from the class $k$ and $1 - p(k)$ chance to mislabel it, so for all classes $k = 1, ..., n$,\n",
    "$$\\sum_{k = 1}^n p(k) \\big( 1 - p(k) \\big) = G.$$\n",
    "- $G$ is at its minimum (zero) if all the data fall into a single class."
   ]
  },
  {
   "cell_type": "markdown",
   "metadata": {},
   "source": [
    "## Information gain\n",
    "\n",
    "`sklearn` also offers an option to use information gain as the criterion. The information gain is the difference between the entropy before the split and after the split.\n",
    "\n",
    "The entropy describes how uniform the data are.\n",
    "- High entropy: the energy is uniformly distributed.\n",
    "- Low entropy: the energy is locally grouped.\n",
    "\n",
    "So the decision criterion can be described as the following:\n",
    "- Before the split at $X_1 = c$, measure the entropy $H$ (We'll se how it's measured later).\n",
    "- After the split, we will have two partitions. Measure the weighted average of the entropy of these two partitions (weight given by the volume of each partition).\n",
    "- If the data was locally grouped before the split and the split made the local group occupy the entire volume of one of the new partitions, then we should have two partitions each with uniformly distributed information.\n",
    "- In terms of the entropy, it was low before the split (not uniformly distributed information), but high after the split (two uniformly distributed information chambers).\n",
    "\n",
    "Thus if the difference is positive and high, we can say we have done the partitioning correctly. Of course the aim is to maximize the difference.\n",
    "\n",
    "So how do we calculate entropy then?\n",
    "\n",
    "The Shannon entropy is formally calculated as\n",
    "$$H = - \\sum_y p(y) \\ln \\big( p(y) \\big)$$\n",
    "where $p(y)$ is the probability that the label $y$ occurs in the data."
   ]
  },
  {
   "cell_type": "markdown",
   "metadata": {},
   "source": [
    "## RFC\n",
    "\n",
    "Trees form a forest. The main weakness of the decision tree method is that it overfits often (low bias, but high variance). RFC was designed to overcome this weakness by randomly choosing multiple portions of the data and training a decision tree on each of these portions, then averaging the result. This technique is called bagging (or bootstrap aggregating), conceptually very similar to cross-validation."
   ]
  },
  {
   "cell_type": "markdown",
   "metadata": {},
   "source": [
    "<a name=\"code\"></a>\n",
    "\n",
    "Alright, it's time to take a look at the code in action!\n",
    "\n",
    "First prepare a labeled data. We'll use the iris data agian."
   ]
  },
  {
   "cell_type": "code",
   "execution_count": 1,
   "metadata": {
    "scrolled": true
   },
   "outputs": [
    {
     "name": "stdout",
     "output_type": "stream",
     "text": [
      "dict_keys(['data', 'target', 'frame', 'target_names', 'DESCR', 'feature_names', 'filename'])\n"
     ]
    }
   ],
   "source": [
    "import numpy as np\n",
    "import matplotlib.pyplot as plt\n",
    "from sklearn.datasets import load_iris\n",
    "\n",
    "iris = load_iris()\n",
    "type(iris)\n",
    "print(iris.keys())"
   ]
  },
  {
   "cell_type": "code",
   "execution_count": 2,
   "metadata": {},
   "outputs": [
    {
     "name": "stdout",
     "output_type": "stream",
     "text": [
      "(75, 4)\n",
      "(74, 4)\n",
      "(150, 4)\n"
     ]
    }
   ],
   "source": [
    "x_train = iris.data[0:-1:2]\n",
    "y_train = iris.target[0:-1:2]\n",
    "x_test = iris.data[1:-1:2]\n",
    "y_test = iris.target[1:-1:2]\n",
    "\n",
    "print(x_train.shape)\n",
    "print(x_test.shape)\n",
    "print(iris.data.shape)"
   ]
  },
  {
   "cell_type": "markdown",
   "metadata": {},
   "source": [
    "Let's try a single decision tree first."
   ]
  },
  {
   "cell_type": "code",
   "execution_count": 3,
   "metadata": {},
   "outputs": [
    {
     "name": "stdout",
     "output_type": "stream",
     "text": [
      "Percentage correct (accuracy) of DTC :  0.9594594594594594\n"
     ]
    },
    {
     "data": {
      "image/svg+xml": [
       "<?xml version=\"1.0\" encoding=\"UTF-8\" standalone=\"no\"?>\r\n",
       "<!DOCTYPE svg PUBLIC \"-//W3C//DTD SVG 1.1//EN\"\r\n",
       " \"http://www.w3.org/Graphics/SVG/1.1/DTD/svg11.dtd\">\r\n",
       "<!-- Generated by graphviz version 2.38.0 (20140413.2041)\r\n",
       " -->\r\n",
       "<!-- Title: Tree Pages: 1 -->\r\n",
       "<svg width=\"500pt\" height=\"477pt\"\r\n",
       " viewBox=\"0.00 0.00 500.00 477.00\" xmlns=\"http://www.w3.org/2000/svg\" xmlns:xlink=\"http://www.w3.org/1999/xlink\">\r\n",
       "<g id=\"graph0\" class=\"graph\" transform=\"scale(1 1) rotate(0) translate(4 473)\">\r\n",
       "<title>Tree</title>\r\n",
       "<polygon fill=\"white\" stroke=\"none\" points=\"-4,4 -4,-473 496,-473 496,4 -4,4\"/>\r\n",
       "<!-- 0 -->\r\n",
       "<g id=\"node1\" class=\"node\"><title>0</title>\r\n",
       "<polygon fill=\"none\" stroke=\"black\" points=\"241.5,-469 116.5,-469 116.5,-401 241.5,-401 241.5,-469\"/>\r\n",
       "<text text-anchor=\"middle\" x=\"179\" y=\"-453.8\" font-family=\"Times New Roman,serif\" font-size=\"14.00\">X[3] &lt;= 0.7</text>\r\n",
       "<text text-anchor=\"middle\" x=\"179\" y=\"-438.8\" font-family=\"Times New Roman,serif\" font-size=\"14.00\">gini = 0.667</text>\r\n",
       "<text text-anchor=\"middle\" x=\"179\" y=\"-423.8\" font-family=\"Times New Roman,serif\" font-size=\"14.00\">samples = 75</text>\r\n",
       "<text text-anchor=\"middle\" x=\"179\" y=\"-408.8\" font-family=\"Times New Roman,serif\" font-size=\"14.00\">value = [25, 25, 25]</text>\r\n",
       "</g>\r\n",
       "<!-- 1 -->\r\n",
       "<g id=\"node2\" class=\"node\"><title>1</title>\r\n",
       "<polygon fill=\"none\" stroke=\"black\" points=\"168,-357.5 56,-357.5 56,-304.5 168,-304.5 168,-357.5\"/>\r\n",
       "<text text-anchor=\"middle\" x=\"112\" y=\"-342.3\" font-family=\"Times New Roman,serif\" font-size=\"14.00\">gini = 0.0</text>\r\n",
       "<text text-anchor=\"middle\" x=\"112\" y=\"-327.3\" font-family=\"Times New Roman,serif\" font-size=\"14.00\">samples = 25</text>\r\n",
       "<text text-anchor=\"middle\" x=\"112\" y=\"-312.3\" font-family=\"Times New Roman,serif\" font-size=\"14.00\">value = [25, 0, 0]</text>\r\n",
       "</g>\r\n",
       "<!-- 0&#45;&gt;1 -->\r\n",
       "<g id=\"edge1\" class=\"edge\"><title>0&#45;&gt;1</title>\r\n",
       "<path fill=\"none\" stroke=\"black\" d=\"M157.247,-400.884C149.951,-389.776 141.803,-377.372 134.454,-366.184\"/>\r\n",
       "<polygon fill=\"black\" stroke=\"black\" points=\"137.179,-363.957 128.763,-357.52 131.328,-367.8 137.179,-363.957\"/>\r\n",
       "<text text-anchor=\"middle\" x=\"123.693\" y=\"-378.3\" font-family=\"Times New Roman,serif\" font-size=\"14.00\">True</text>\r\n",
       "</g>\r\n",
       "<!-- 2 -->\r\n",
       "<g id=\"node3\" class=\"node\"><title>2</title>\r\n",
       "<polygon fill=\"none\" stroke=\"black\" points=\"305.5,-365 186.5,-365 186.5,-297 305.5,-297 305.5,-365\"/>\r\n",
       "<text text-anchor=\"middle\" x=\"246\" y=\"-349.8\" font-family=\"Times New Roman,serif\" font-size=\"14.00\">X[3] &lt;= 1.65</text>\r\n",
       "<text text-anchor=\"middle\" x=\"246\" y=\"-334.8\" font-family=\"Times New Roman,serif\" font-size=\"14.00\">gini = 0.5</text>\r\n",
       "<text text-anchor=\"middle\" x=\"246\" y=\"-319.8\" font-family=\"Times New Roman,serif\" font-size=\"14.00\">samples = 50</text>\r\n",
       "<text text-anchor=\"middle\" x=\"246\" y=\"-304.8\" font-family=\"Times New Roman,serif\" font-size=\"14.00\">value = [0, 25, 25]</text>\r\n",
       "</g>\r\n",
       "<!-- 0&#45;&gt;2 -->\r\n",
       "<g id=\"edge2\" class=\"edge\"><title>0&#45;&gt;2</title>\r\n",
       "<path fill=\"none\" stroke=\"black\" d=\"M200.753,-400.884C206.428,-392.243 212.619,-382.819 218.548,-373.793\"/>\r\n",
       "<polygon fill=\"black\" stroke=\"black\" points=\"221.562,-375.579 224.127,-365.299 215.711,-371.736 221.562,-375.579\"/>\r\n",
       "<text text-anchor=\"middle\" x=\"229.197\" y=\"-386.08\" font-family=\"Times New Roman,serif\" font-size=\"14.00\">False</text>\r\n",
       "</g>\r\n",
       "<!-- 3 -->\r\n",
       "<g id=\"node4\" class=\"node\"><title>3</title>\r\n",
       "<polygon fill=\"none\" stroke=\"black\" points=\"237,-261 125,-261 125,-193 237,-193 237,-261\"/>\r\n",
       "<text text-anchor=\"middle\" x=\"181\" y=\"-245.8\" font-family=\"Times New Roman,serif\" font-size=\"14.00\">X[2] &lt;= 5.25</text>\r\n",
       "<text text-anchor=\"middle\" x=\"181\" y=\"-230.8\" font-family=\"Times New Roman,serif\" font-size=\"14.00\">gini = 0.077</text>\r\n",
       "<text text-anchor=\"middle\" x=\"181\" y=\"-215.8\" font-family=\"Times New Roman,serif\" font-size=\"14.00\">samples = 25</text>\r\n",
       "<text text-anchor=\"middle\" x=\"181\" y=\"-200.8\" font-family=\"Times New Roman,serif\" font-size=\"14.00\">value = [0, 24, 1]</text>\r\n",
       "</g>\r\n",
       "<!-- 2&#45;&gt;3 -->\r\n",
       "<g id=\"edge3\" class=\"edge\"><title>2&#45;&gt;3</title>\r\n",
       "<path fill=\"none\" stroke=\"black\" d=\"M224.896,-296.884C219.39,-288.243 213.385,-278.819 207.633,-269.793\"/>\r\n",
       "<polygon fill=\"black\" stroke=\"black\" points=\"210.546,-267.852 202.22,-261.299 204.643,-271.614 210.546,-267.852\"/>\r\n",
       "</g>\r\n",
       "<!-- 6 -->\r\n",
       "<g id=\"node7\" class=\"node\"><title>6</title>\r\n",
       "<polygon fill=\"none\" stroke=\"black\" points=\"367,-261 255,-261 255,-193 367,-193 367,-261\"/>\r\n",
       "<text text-anchor=\"middle\" x=\"311\" y=\"-245.8\" font-family=\"Times New Roman,serif\" font-size=\"14.00\">X[2] &lt;= 4.9</text>\r\n",
       "<text text-anchor=\"middle\" x=\"311\" y=\"-230.8\" font-family=\"Times New Roman,serif\" font-size=\"14.00\">gini = 0.077</text>\r\n",
       "<text text-anchor=\"middle\" x=\"311\" y=\"-215.8\" font-family=\"Times New Roman,serif\" font-size=\"14.00\">samples = 25</text>\r\n",
       "<text text-anchor=\"middle\" x=\"311\" y=\"-200.8\" font-family=\"Times New Roman,serif\" font-size=\"14.00\">value = [0, 1, 24]</text>\r\n",
       "</g>\r\n",
       "<!-- 2&#45;&gt;6 -->\r\n",
       "<g id=\"edge6\" class=\"edge\"><title>2&#45;&gt;6</title>\r\n",
       "<path fill=\"none\" stroke=\"black\" d=\"M267.104,-296.884C272.61,-288.243 278.615,-278.819 284.367,-269.793\"/>\r\n",
       "<polygon fill=\"black\" stroke=\"black\" points=\"287.357,-271.614 289.78,-261.299 281.454,-267.852 287.357,-271.614\"/>\r\n",
       "</g>\r\n",
       "<!-- 4 -->\r\n",
       "<g id=\"node5\" class=\"node\"><title>4</title>\r\n",
       "<polygon fill=\"none\" stroke=\"black\" points=\"112,-149.5 7.10543e-015,-149.5 7.10543e-015,-96.5 112,-96.5 112,-149.5\"/>\r\n",
       "<text text-anchor=\"middle\" x=\"56\" y=\"-134.3\" font-family=\"Times New Roman,serif\" font-size=\"14.00\">gini = 0.0</text>\r\n",
       "<text text-anchor=\"middle\" x=\"56\" y=\"-119.3\" font-family=\"Times New Roman,serif\" font-size=\"14.00\">samples = 24</text>\r\n",
       "<text text-anchor=\"middle\" x=\"56\" y=\"-104.3\" font-family=\"Times New Roman,serif\" font-size=\"14.00\">value = [0, 24, 0]</text>\r\n",
       "</g>\r\n",
       "<!-- 3&#45;&gt;4 -->\r\n",
       "<g id=\"edge4\" class=\"edge\"><title>3&#45;&gt;4</title>\r\n",
       "<path fill=\"none\" stroke=\"black\" d=\"M140.416,-192.884C125.86,-181.006 109.488,-167.646 95.0637,-155.876\"/>\r\n",
       "<polygon fill=\"black\" stroke=\"black\" points=\"97.2351,-153.13 87.2744,-149.52 92.8095,-158.554 97.2351,-153.13\"/>\r\n",
       "</g>\r\n",
       "<!-- 5 -->\r\n",
       "<g id=\"node6\" class=\"node\"><title>5</title>\r\n",
       "<polygon fill=\"none\" stroke=\"black\" points=\"235.5,-149.5 130.5,-149.5 130.5,-96.5 235.5,-96.5 235.5,-149.5\"/>\r\n",
       "<text text-anchor=\"middle\" x=\"183\" y=\"-134.3\" font-family=\"Times New Roman,serif\" font-size=\"14.00\">gini = 0.0</text>\r\n",
       "<text text-anchor=\"middle\" x=\"183\" y=\"-119.3\" font-family=\"Times New Roman,serif\" font-size=\"14.00\">samples = 1</text>\r\n",
       "<text text-anchor=\"middle\" x=\"183\" y=\"-104.3\" font-family=\"Times New Roman,serif\" font-size=\"14.00\">value = [0, 0, 1]</text>\r\n",
       "</g>\r\n",
       "<!-- 3&#45;&gt;5 -->\r\n",
       "<g id=\"edge5\" class=\"edge\"><title>3&#45;&gt;5</title>\r\n",
       "<path fill=\"none\" stroke=\"black\" d=\"M181.649,-192.884C181.859,-182.216 182.091,-170.352 182.304,-159.519\"/>\r\n",
       "<polygon fill=\"black\" stroke=\"black\" points=\"185.803,-159.587 182.5,-149.52 178.804,-159.449 185.803,-159.587\"/>\r\n",
       "</g>\r\n",
       "<!-- 7 -->\r\n",
       "<g id=\"node8\" class=\"node\"><title>7</title>\r\n",
       "<polygon fill=\"none\" stroke=\"black\" points=\"361.5,-157 256.5,-157 256.5,-89 361.5,-89 361.5,-157\"/>\r\n",
       "<text text-anchor=\"middle\" x=\"309\" y=\"-141.8\" font-family=\"Times New Roman,serif\" font-size=\"14.00\">X[1] &lt;= 3.1</text>\r\n",
       "<text text-anchor=\"middle\" x=\"309\" y=\"-126.8\" font-family=\"Times New Roman,serif\" font-size=\"14.00\">gini = 0.375</text>\r\n",
       "<text text-anchor=\"middle\" x=\"309\" y=\"-111.8\" font-family=\"Times New Roman,serif\" font-size=\"14.00\">samples = 4</text>\r\n",
       "<text text-anchor=\"middle\" x=\"309\" y=\"-96.8\" font-family=\"Times New Roman,serif\" font-size=\"14.00\">value = [0, 1, 3]</text>\r\n",
       "</g>\r\n",
       "<!-- 6&#45;&gt;7 -->\r\n",
       "<g id=\"edge7\" class=\"edge\"><title>6&#45;&gt;7</title>\r\n",
       "<path fill=\"none\" stroke=\"black\" d=\"M310.351,-192.884C310.192,-184.778 310.019,-175.982 309.852,-167.472\"/>\r\n",
       "<polygon fill=\"black\" stroke=\"black\" points=\"313.348,-167.229 309.653,-157.299 306.35,-167.366 313.348,-167.229\"/>\r\n",
       "</g>\r\n",
       "<!-- 10 -->\r\n",
       "<g id=\"node11\" class=\"node\"><title>10</title>\r\n",
       "<polygon fill=\"none\" stroke=\"black\" points=\"492,-149.5 380,-149.5 380,-96.5 492,-96.5 492,-149.5\"/>\r\n",
       "<text text-anchor=\"middle\" x=\"436\" y=\"-134.3\" font-family=\"Times New Roman,serif\" font-size=\"14.00\">gini = 0.0</text>\r\n",
       "<text text-anchor=\"middle\" x=\"436\" y=\"-119.3\" font-family=\"Times New Roman,serif\" font-size=\"14.00\">samples = 21</text>\r\n",
       "<text text-anchor=\"middle\" x=\"436\" y=\"-104.3\" font-family=\"Times New Roman,serif\" font-size=\"14.00\">value = [0, 0, 21]</text>\r\n",
       "</g>\r\n",
       "<!-- 6&#45;&gt;10 -->\r\n",
       "<g id=\"edge10\" class=\"edge\"><title>6&#45;&gt;10</title>\r\n",
       "<path fill=\"none\" stroke=\"black\" d=\"M351.584,-192.884C366.14,-181.006 382.512,-167.646 396.936,-155.876\"/>\r\n",
       "<polygon fill=\"black\" stroke=\"black\" points=\"399.191,-158.554 404.726,-149.52 394.765,-153.13 399.191,-158.554\"/>\r\n",
       "</g>\r\n",
       "<!-- 8 -->\r\n",
       "<g id=\"node9\" class=\"node\"><title>8</title>\r\n",
       "<polygon fill=\"none\" stroke=\"black\" points=\"299.5,-53 194.5,-53 194.5,-0 299.5,-0 299.5,-53\"/>\r\n",
       "<text text-anchor=\"middle\" x=\"247\" y=\"-37.8\" font-family=\"Times New Roman,serif\" font-size=\"14.00\">gini = 0.0</text>\r\n",
       "<text text-anchor=\"middle\" x=\"247\" y=\"-22.8\" font-family=\"Times New Roman,serif\" font-size=\"14.00\">samples = 3</text>\r\n",
       "<text text-anchor=\"middle\" x=\"247\" y=\"-7.8\" font-family=\"Times New Roman,serif\" font-size=\"14.00\">value = [0, 0, 3]</text>\r\n",
       "</g>\r\n",
       "<!-- 7&#45;&gt;8 -->\r\n",
       "<g id=\"edge8\" class=\"edge\"><title>7&#45;&gt;8</title>\r\n",
       "<path fill=\"none\" stroke=\"black\" d=\"M287.315,-88.9485C281.554,-80.1664 275.319,-70.6629 269.514,-61.815\"/>\r\n",
       "<polygon fill=\"black\" stroke=\"black\" points=\"272.297,-59.6779 263.885,-53.2367 266.445,-63.5178 272.297,-59.6779\"/>\r\n",
       "</g>\r\n",
       "<!-- 9 -->\r\n",
       "<g id=\"node10\" class=\"node\"><title>9</title>\r\n",
       "<polygon fill=\"none\" stroke=\"black\" points=\"422.5,-53 317.5,-53 317.5,-0 422.5,-0 422.5,-53\"/>\r\n",
       "<text text-anchor=\"middle\" x=\"370\" y=\"-37.8\" font-family=\"Times New Roman,serif\" font-size=\"14.00\">gini = 0.0</text>\r\n",
       "<text text-anchor=\"middle\" x=\"370\" y=\"-22.8\" font-family=\"Times New Roman,serif\" font-size=\"14.00\">samples = 1</text>\r\n",
       "<text text-anchor=\"middle\" x=\"370\" y=\"-7.8\" font-family=\"Times New Roman,serif\" font-size=\"14.00\">value = [0, 1, 0]</text>\r\n",
       "</g>\r\n",
       "<!-- 7&#45;&gt;9 -->\r\n",
       "<g id=\"edge9\" class=\"edge\"><title>7&#45;&gt;9</title>\r\n",
       "<path fill=\"none\" stroke=\"black\" d=\"M330.335,-88.9485C336.004,-80.1664 342.138,-70.6629 347.85,-61.815\"/>\r\n",
       "<polygon fill=\"black\" stroke=\"black\" points=\"350.904,-63.5365 353.387,-53.2367 345.023,-59.7402 350.904,-63.5365\"/>\r\n",
       "</g>\r\n",
       "</g>\r\n",
       "</svg>\r\n"
      ],
      "text/plain": [
       "<graphviz.files.Source at 0x1e333f2eac8>"
      ]
     },
     "execution_count": 3,
     "metadata": {},
     "output_type": "execute_result"
    }
   ],
   "source": [
    "# Decision tree classifier\n",
    "from sklearn import tree\n",
    "\n",
    "# model\n",
    "model = tree.DecisionTreeClassifier()\n",
    "# train\n",
    "model.fit(x_train, y_train)\n",
    "# prediction\n",
    "y_predicted = model.predict(x_test)\n",
    "# evaluation\n",
    "print('Percentage correct (accuracy) of DTC : ', np.mean(y_test == y_predicted))\n",
    "\n",
    "import graphviz\n",
    "\n",
    "dot_data = tree.export_graphviz(model, out_file = None)\n",
    "graph = graphviz.Source(dot_data)\n",
    "graph"
   ]
  },
  {
   "cell_type": "markdown",
   "metadata": {},
   "source": [
    "Now we'll use `sklearn.ensemble.RandomForestClassifier()`.\n",
    "\n",
    "By default, it's going to use `criterion = 'gini'`. One can make a change to use the informaion gain by setting `criterion = 'entropy'`."
   ]
  },
  {
   "cell_type": "code",
   "execution_count": 4,
   "metadata": {},
   "outputs": [
    {
     "name": "stdout",
     "output_type": "stream",
     "text": [
      "Percentage correct accuracy of RFC:  0.972972972972973\n"
     ]
    }
   ],
   "source": [
    "# RFC\n",
    "from sklearn.ensemble import RandomForestClassifier\n",
    "\n",
    "# model\n",
    "model = RandomForestClassifier(n_estimators = 10)\n",
    "# train\n",
    "model.fit(x_train, y_train)\n",
    "# prediction\n",
    "y_predicted = model.predict(x_test)\n",
    "# evaluation\n",
    "print('Percentage correct accuracy of RFC: ', np.mean(y_test == y_predicted))"
   ]
  },
  {
   "cell_type": "markdown",
   "metadata": {},
   "source": [
    "RFC showed a slightly better performance in this example."
   ]
  }
 ],
 "metadata": {
  "kernelspec": {
   "display_name": "Python 3",
   "language": "python",
   "name": "python3"
  },
  "language_info": {
   "codemirror_mode": {
    "name": "ipython",
    "version": 3
   },
   "file_extension": ".py",
   "mimetype": "text/x-python",
   "name": "python",
   "nbconvert_exporter": "python",
   "pygments_lexer": "ipython3",
   "version": "3.7.7"
  }
 },
 "nbformat": 4,
 "nbformat_minor": 4
}
